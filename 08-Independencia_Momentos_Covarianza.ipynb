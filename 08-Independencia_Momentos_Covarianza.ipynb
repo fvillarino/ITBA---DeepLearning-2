{
 "cells": [
  {
   "cell_type": "markdown",
   "metadata": {},
   "source": [
    "# Comó se relacionan las marginales, la conjunta y las condicionales?"
   ]
  },
  {
   "cell_type": "markdown",
   "metadata": {},
   "source": [
    "$\\large P(X_1, X_2) = P(X_1 | X_2=x_2)P(X_2) = P(X_2 | X_1=x_1)P(X_1)$"
   ]
  },
  {
   "cell_type": "code",
   "execution_count": 4,
   "metadata": {},
   "outputs": [],
   "source": [
    "import pandas as pd\n",
    "from collections import Counter\n",
    "\n",
    "df = pd.read_csv('alturas-pesos-train.csv')"
   ]
  },
  {
   "cell_type": "code",
   "execution_count": 5,
   "metadata": {},
   "outputs": [],
   "source": [
    "tuplas = []\n",
    "for line in df[['Peso', 'Altura']].values:\n",
    "    tuplas.append(tuple(line))"
   ]
  },
  {
   "cell_type": "code",
   "execution_count": 6,
   "metadata": {},
   "outputs": [],
   "source": [
    "frecuencia_conjunta = dict(Counter(tuplas))"
   ]
  },
  {
   "cell_type": "code",
   "execution_count": 7,
   "metadata": {},
   "outputs": [
    {
     "name": "stdout",
     "output_type": "stream",
     "text": [
      "{(60, 160): 453, (95, 180): 201, (75, 170): 394, (55, 160): 272, (55, 150): 59, (80, 175): 351, (70, 170): 279, (55, 155): 302, (85, 180): 239, (60, 165): 235, (80, 165): 98, (95, 185): 153, (75, 165): 209, (65, 170): 128, (65, 160): 305, (40, 150): 16, (40, 145): 22, (70, 160): 108, (65, 165): 402, (85, 170): 176, (85, 165): 23, (50, 155): 208, (90, 175): 262, (30, 145): 1, (45, 150): 93, (60, 155): 179, (90, 170): 36, (90, 180): 335, (110, 195): 11, (85, 185): 30, (65, 155): 55, (85, 175): 408, (70, 165): 337, (60, 170): 31, (60, 150): 16, (90, 190): 5, (100, 185): 97, (45, 155): 46, (50, 150): 133, (105, 185): 18, (80, 170): 369, (35, 145): 3, (95, 175): 58, (50, 160): 60, (75, 175): 134, (100, 190): 48, (75, 160): 42, (55, 165): 69, (95, 190): 38, (70, 175): 44, (55, 145): 4, (90, 185): 119, (105, 195): 13, (50, 145): 16, (100, 175): 9, (80, 180): 63, (100, 180): 33, (45, 145): 33, (110, 190): 8, (115, 200): 2, (45, 160): 6, (105, 190): 27, (65, 175): 8, (70, 155): 8, (40, 140): 4, (30, 140): 1, (100, 195): 2, (115, 195): 3, (75, 180): 6, (40, 160): 1, (65, 150): 5, (55, 170): 6, (80, 185): 4, (80, 160): 2, (50, 165): 4, (40, 155): 2, (35, 140): 3, (85, 160): 1, (105, 200): 1, (45, 140): 2, (35, 155): 1, (120, 200): 1, (105, 180): 3, (95, 195): 2, (110, 200): 1, (115, 190): 3, (70, 180): 1, (75, 155): 1}\n"
     ]
    }
   ],
   "source": [
    "print(frecuencia_conjunta)"
   ]
  },
  {
   "cell_type": "markdown",
   "metadata": {},
   "source": [
    "## Ejemplo\n",
    "\n",
    "$\\large P(Peso= 80, Altura =165) = P(Peso=80|Altura=165)P(Altura=165)$"
   ]
  },
  {
   "cell_type": "markdown",
   "metadata": {},
   "source": [
    "### Izquierda del igual $P(Peso= 80, Altura =165)$"
   ]
  },
  {
   "cell_type": "code",
   "execution_count": 8,
   "metadata": {},
   "outputs": [
    {
     "name": "stdout",
     "output_type": "stream",
     "text": [
      "0.01225\n"
     ]
    }
   ],
   "source": [
    "# Si lo obtenemos de la conjunta directamente\n",
    "P_80_165 = frecuencia_conjunta[(80, 165)]/len(df)\n",
    "print(P_80_165)"
   ]
  },
  {
   "cell_type": "markdown",
   "metadata": {},
   "source": [
    "### Derecha del igual $P(Peso=80|Altura=165)P(Altura=165)$"
   ]
  },
  {
   "cell_type": "code",
   "execution_count": 9,
   "metadata": {},
   "outputs": [],
   "source": [
    "Cant_alt_165 = (df['Altura'] == 165).sum()\n",
    "Cant_peso_80_alt_165 = (df[df['Altura'] == 165]['Peso'] == 80).sum()"
   ]
  },
  {
   "cell_type": "code",
   "execution_count": 10,
   "metadata": {},
   "outputs": [
    {
     "name": "stdout",
     "output_type": "stream",
     "text": [
      "0.07116920842411038\n"
     ]
    }
   ],
   "source": [
    "# Primer parte del producto \n",
    "P_80_dado_165 = Cant_peso_80_alt_165/Cant_alt_165\n",
    "print(P_80_dado_165)"
   ]
  },
  {
   "cell_type": "code",
   "execution_count": 11,
   "metadata": {},
   "outputs": [
    {
     "data": {
      "text/plain": [
       "0.172125"
      ]
     },
     "execution_count": 11,
     "metadata": {},
     "output_type": "execute_result"
    }
   ],
   "source": [
    "# Segunda parte del producto \n",
    "P_alt_165 = Cant_alt_165/len(df)\n",
    "P_alt_165"
   ]
  },
  {
   "cell_type": "code",
   "execution_count": 12,
   "metadata": {},
   "outputs": [
    {
     "data": {
      "text/plain": [
       "0.01225"
      ]
     },
     "execution_count": 12,
     "metadata": {},
     "output_type": "execute_result"
    }
   ],
   "source": [
    "# Resultado del producto que coincide como es de esperar con el \n",
    "P_alt_165*P_80_dado_165"
   ]
  },
  {
   "cell_type": "markdown",
   "metadata": {},
   "source": [
    "# Notar como se hizo el cálculo\n",
    "\n",
    "#### Cant_alt_165/len(df) * Cant_peso_80_alt_165/Cant_alt_165 = Cant_peso_80_alt_165/len(df)"
   ]
  },
  {
   "cell_type": "markdown",
   "metadata": {},
   "source": [
    "# Independencia"
   ]
  },
  {
   "cell_type": "markdown",
   "metadata": {},
   "source": [
    "$P(X_1, X_2) = P(X_1 | X_2=x_2)P(X_2)$\n",
    "\n",
    "Si $X_1$ no depende de $X_2$ $P(X_1 | X_2=x_2)$ = $P(X_1)$\n",
    "\n",
    "$\\large P(X_1, X_2) = P(X_1)P(X_2)$"
   ]
  },
  {
   "cell_type": "markdown",
   "metadata": {},
   "source": [
    "# De conjunta a marginal"
   ]
  },
  {
   "cell_type": "markdown",
   "metadata": {},
   "source": [
    "$\\large P(X_1) = \\sum_{x_2}{P(X_1, X_2)}$\n",
    "\n",
    "$\\large P(Pesos) = \\sum_{Alturas}{P(Pesos, Alturas)}$"
   ]
  },
  {
   "cell_type": "code",
   "execution_count": 13,
   "metadata": {},
   "outputs": [
    {
     "data": {
      "image/png": "[encoded data removed]",
      "text/plain": [
       "<Figure size 432x432 with 3 Axes>"
      ]
     },
     "metadata": {
      "needs_background": "light"
     },
     "output_type": "display_data"
    }
   ],
   "source": [
    "from helper import plot_joint_hists_dicts\n",
    "_ = plot_joint_hists_dicts(frecuencia_conjunta)"
   ]
  },
  {
   "cell_type": "markdown",
   "metadata": {},
   "source": [
    "# Probabilidad Total\n",
    "$\\large P(X_1) = \\sum_{x_2}{P(X_1| X_2)P(X_2)}$"
   ]
  },
  {
   "cell_type": "markdown",
   "metadata": {},
   "source": [
    "$\\large P(Pesos = p) = P(Pesos = p| Mujer)P(Mujer) + P(Pesos| Hombre)P(Hombre)$"
   ]
  },
  {
   "cell_type": "markdown",
   "metadata": {},
   "source": [
    "A $𝑃(𝑋1|𝑋2)$ se lo llama likelihood"
   ]
  },
  {
   "cell_type": "code",
   "execution_count": 14,
   "metadata": {},
   "outputs": [
    {
     "data": {
      "text/plain": [
       "0.112875"
      ]
     },
     "execution_count": 14,
     "metadata": {},
     "output_type": "execute_result"
    }
   ],
   "source": [
    "# 𝑃(𝑃𝑒𝑠𝑜𝑠=𝑝)\n",
    "(df['Peso'] == 65).sum()/len(df)"
   ]
  },
  {
   "cell_type": "code",
   "execution_count": 15,
   "metadata": {},
   "outputs": [
    {
     "data": {
      "text/plain": [
       "0.11287499999999999"
      ]
     },
     "execution_count": 15,
     "metadata": {},
     "output_type": "execute_result"
    }
   ],
   "source": [
    "# 𝑃(𝑃𝑒𝑠𝑜𝑠=𝑝|𝑀𝑢𝑗𝑒𝑟)𝑃(𝑀𝑢𝑗𝑒𝑟)+𝑃(𝑃𝑒𝑠𝑜𝑠|𝐻𝑜𝑚𝑏𝑟𝑒)𝑃(𝐻𝑜𝑚𝑏𝑟𝑒)\n",
    "((df['Peso'] == 65) & (df['Genero'] == 'Mujer')).sum()/(df['Genero']=='Mujer').sum() * (df['Genero']=='Mujer').sum()/len(df) + \\\n",
    "((df['Peso'] == 65) & (df['Genero'] == 'Hombre')).sum()/(df['Genero']=='Hombre').sum() * (df['Genero']=='Hombre').sum()/len(df)"
   ]
  },
  {
   "cell_type": "markdown",
   "metadata": {},
   "source": [
    "# Vector de medias"
   ]
  },
  {
   "cell_type": "markdown",
   "metadata": {},
   "source": [
    "$E\\{[X_1, ..., X_n]\\} = [\\mu_{x_1}, ..., \\mu_{x_n}]$"
   ]
  },
  {
   "cell_type": "code",
   "execution_count": 16,
   "metadata": {},
   "outputs": [
    {
     "data": {
      "text/plain": [
       "(168.10875, 72.814375)"
      ]
     },
     "execution_count": 16,
     "metadata": {},
     "output_type": "execute_result"
    }
   ],
   "source": [
    "df['Altura'].mean(), df['Peso'].mean()"
   ]
  },
  {
   "cell_type": "markdown",
   "metadata": {},
   "source": [
    "# Covarianza de 2 Variables aleatorias"
   ]
  },
  {
   "cell_type": "markdown",
   "metadata": {},
   "source": [
    "$cov(X_1, X_2) = E[(X_1 - \\mu_{x_1})((X_2 - \\mu_{x_2})] = E\\{X_1X_2\\} - \\mu_{X_1}\\mu_{X_2}$"
   ]
  },
  {
   "cell_type": "markdown",
   "metadata": {},
   "source": [
    "Que pasa si $X_1$ es igual a $X_2$"
   ]
  },
  {
   "cell_type": "markdown",
   "metadata": {},
   "source": [
    "$cov(X_1, X_2) = \\sigma_{x_1}^2 = \\sigma_{x_2}^2$"
   ]
  },
  {
   "cell_type": "markdown",
   "metadata": {},
   "source": [
    "$cov(X_1, X_2) = \\sum_{(x_1, x_2) \\in S} P(X_1=x_1, X_2=x_2)(x_1-\\mu_{x_1})(x_2- \\mu_{x_2})$"
   ]
  },
  {
   "cell_type": "markdown",
   "metadata": {},
   "source": [
    "Cual es minimo positivo?"
   ]
  },
  {
   "cell_type": "code",
   "execution_count": 17,
   "metadata": {},
   "outputs": [
    {
     "name": "stdout",
     "output_type": "stream",
     "text": [
      "168.10875 72.814375\n"
     ]
    }
   ],
   "source": [
    "conjunta_prob = {al:c/len(df) for al, c in frecuencia_conjunta.items()}\n",
    "mu_alturas = df['Altura'].mean()\n",
    "mu_pesos = df['Peso'].mean()\n",
    "print(mu_alturas, mu_pesos)"
   ]
  },
  {
   "cell_type": "code",
   "execution_count": 18,
   "metadata": {},
   "outputs": [
    {
     "name": "stdout",
     "output_type": "stream",
     "text": [
      "133.01956171875\n"
     ]
    }
   ],
   "source": [
    "cov = 0\n",
    "for (pe, al), p in conjunta_prob.items():\n",
    "    cov = cov + (pe-mu_pesos)*(al-mu_alturas)*p\n",
    "print(cov)"
   ]
  },
  {
   "cell_type": "markdown",
   "metadata": {},
   "source": [
    "### Es alta o baja?"
   ]
  },
  {
   "cell_type": "markdown",
   "metadata": {},
   "source": [
    "## Coeficiente de correlación\n",
    "Mide la relación **lineal** entre dos V.As"
   ]
  },
  {
   "cell_type": "markdown",
   "metadata": {},
   "source": [
    "### Si normalizo obtengo el coeficiente de correlación"
   ]
  },
  {
   "cell_type": "markdown",
   "metadata": {},
   "source": [
    "$\\large \\rho(X_1, X_2) = \\frac{cov(X_1, X_2)}{\\sigma_{X_1} \\sigma_{X_2}}$"
   ]
  },
  {
   "cell_type": "code",
   "execution_count": 19,
   "metadata": {},
   "outputs": [],
   "source": [
    "std_alturas = df['Altura'].std()\n",
    "std_pesos = df['Peso'].std()\n",
    "corr_cof = cov/(std_alturas*std_pesos)"
   ]
  },
  {
   "cell_type": "code",
   "execution_count": 20,
   "metadata": {},
   "outputs": [
    {
     "data": {
      "text/plain": [
       "0.9105196990185142"
      ]
     },
     "execution_count": 20,
     "metadata": {},
     "output_type": "execute_result"
    }
   ],
   "source": [
    "corr_cof"
   ]
  },
  {
   "cell_type": "markdown",
   "metadata": {},
   "source": [
    "Muy alta!"
   ]
  },
  {
   "cell_type": "markdown",
   "metadata": {},
   "source": [
    "## Diferencia de correlación con entropía cruzada o divergencia KL?\n",
    "\n",
    "- La entropía cruzada trabaja sobre el mismo espacio muestral mientras que la correlación no"
   ]
  },
  {
   "cell_type": "markdown",
   "metadata": {},
   "source": [
    "# Matriz de covarianza en vectores aleatorios"
   ]
  },
  {
   "cell_type": "markdown",
   "metadata": {},
   "source": [
    "$\\vec{X} = [X_1, X_2, X_3, ..., X_N]$"
   ]
  },
  {
   "cell_type": "markdown",
   "metadata": {},
   "source": [
    "$\\Sigma_{\\vec{X}} = \n",
    "\\begin{bmatrix}\n",
    "    cov(x_1,x_1) & cov(x_1,x_2) & cov(x_1,x_3) & \\dots  & cov(x_1,x_N) \\\\\n",
    "    cov(x_2,x_1) & cov(x_2,x_2) & cov(x_2,x_3) & \\dots  & cov(x_2,x_N) \\\\\n",
    "    \\vdots & \\vdots & \\vdots & \\ddots & \\vdots \\\\\n",
    "    cov(x_N,x_1) & cov(x_N,x_2) & cov(x_N,x_3) & \\dots  & cov(x_N,x_N)\n",
    "\\end{bmatrix}$"
   ]
  },
  {
   "cell_type": "markdown",
   "metadata": {},
   "source": [
    "$\\Sigma_{\\vec{X}} = \n",
    "\\begin{bmatrix}\n",
    "    \\sigma_{x_1}^2 & cov(x_1,x_2) & cov(x_1,x_3) & \\dots  & cov(x_1,x_N) \\\\\n",
    "    cov(x_2,x_1) & \\sigma_{x_2}^2 & cov(x_2,x_3) & \\dots  & cov(x_2,x_N) \\\\\n",
    "    \\vdots & \\vdots & \\vdots & \\ddots & \\vdots \\\\\n",
    "    cov(x_N,x_1) & cov(x_N,x_2) & cov(x_N,x_3) & \\dots  & \\sigma_{x_N}^2\n",
    "\\end{bmatrix}$"
   ]
  },
  {
   "cell_type": "markdown",
   "metadata": {},
   "source": [
    "# Que pasa cuando todas las V.A son independientes?"
   ]
  },
  {
   "cell_type": "markdown",
   "metadata": {},
   "source": [
    "$\\Sigma_{\\vec{X}} = \n",
    "\\begin{bmatrix}\n",
    "    \\sigma_{x_1}^2 & 0 & 0 & \\dots  & 0 \\\\\n",
    "    0 & \\sigma_{x_2}^2 & 0 & \\dots  & 0 \\\\\n",
    "    \\vdots & \\vdots & \\vdots & \\ddots & \\vdots \\\\\n",
    "    0 & 0 & 0 & \\dots  & \\sigma_{x_N}^2\n",
    "\\end{bmatrix}$"
   ]
  },
  {
   "cell_type": "markdown",
   "metadata": {},
   "source": [
    "# Matriz de correlación"
   ]
  },
  {
   "cell_type": "markdown",
   "metadata": {},
   "source": [
    "$\\Sigma_{\\vec{X}} = \n",
    "\\begin{bmatrix}\n",
    "    1 & \\rho_{x_1,x_2} & \\rho_{x_1,x_3} & \\dots  & \\rho_{x_1,x_N} \\\\\n",
    "    \\rho_{x_2,x_1} & 1 & \\rho_{x_2,x_3} & \\dots  & \\rho_{x_2,x_N} \\\\\n",
    "    \\vdots & \\vdots & \\vdots & \\ddots & \\vdots \\\\\n",
    "    cov{x_N,x_1} & \\rho_{x_N,x_2} & \\rho_{x_N,x_3} & \\dots  & 1\n",
    "\\end{bmatrix}$"
   ]
  },
  {
   "cell_type": "code",
   "execution_count": 21,
   "metadata": {},
   "outputs": [
    {
     "data": {
      "text/html": [
       "<div>\n",
       "<style scoped>\n",
       "    .dataframe tbody tr th:only-of-type {\n",
       "        vertical-align: middle;\n",
       "    }\n",
       "\n",
       "    .dataframe tbody tr th {\n",
       "        vertical-align: top;\n",
       "    }\n",
       "\n",
       "    .dataframe thead th {\n",
       "        text-align: right;\n",
       "    }\n",
       "</style>\n",
       "<table border=\"1\" class=\"dataframe\">\n",
       "  <thead>\n",
       "    <tr style=\"text-align: right;\">\n",
       "      <th></th>\n",
       "      <th>Peso</th>\n",
       "      <th>Altura</th>\n",
       "    </tr>\n",
       "  </thead>\n",
       "  <tbody>\n",
       "    <tr>\n",
       "      <th>Peso</th>\n",
       "      <td>1.000000</td>\n",
       "      <td>0.910634</td>\n",
       "    </tr>\n",
       "    <tr>\n",
       "      <th>Altura</th>\n",
       "      <td>0.910634</td>\n",
       "      <td>1.000000</td>\n",
       "    </tr>\n",
       "  </tbody>\n",
       "</table>\n",
       "</div>"
      ],
      "text/plain": [
       "            Peso    Altura\n",
       "Peso    1.000000  0.910634\n",
       "Altura  0.910634  1.000000"
      ]
     },
     "execution_count": 21,
     "metadata": {},
     "output_type": "execute_result"
    }
   ],
   "source": [
    "df.corr()"
   ]
  },
  {
   "cell_type": "code",
   "execution_count": 89,
   "metadata": {},
   "outputs": [],
   "source": [
    "df2 = df.copy()"
   ]
  },
  {
   "cell_type": "code",
   "execution_count": 94,
   "metadata": {},
   "outputs": [],
   "source": [
    "import numpy as np\n",
    "df2['Genero'] = df['Genero'] == 'Hombre'\n",
    "# Cambiar Hombre por Mujer y ver que pasa"
   ]
  },
  {
   "cell_type": "code",
   "execution_count": 95,
   "metadata": {},
   "outputs": [
    {
     "data": {
      "text/html": [
       "<div>\n",
       "<style scoped>\n",
       "    .dataframe tbody tr th:only-of-type {\n",
       "        vertical-align: middle;\n",
       "    }\n",
       "\n",
       "    .dataframe tbody tr th {\n",
       "        vertical-align: top;\n",
       "    }\n",
       "\n",
       "    .dataframe thead th {\n",
       "        text-align: right;\n",
       "    }\n",
       "</style>\n",
       "<table border=\"1\" class=\"dataframe\">\n",
       "  <thead>\n",
       "    <tr style=\"text-align: right;\">\n",
       "      <th></th>\n",
       "      <th>Genero</th>\n",
       "      <th>Peso</th>\n",
       "      <th>Altura</th>\n",
       "    </tr>\n",
       "  </thead>\n",
       "  <tbody>\n",
       "    <tr>\n",
       "      <th>Genero</th>\n",
       "      <td>1.000000</td>\n",
       "      <td>0.793309</td>\n",
       "      <td>0.684495</td>\n",
       "    </tr>\n",
       "    <tr>\n",
       "      <th>Peso</th>\n",
       "      <td>0.793309</td>\n",
       "      <td>1.000000</td>\n",
       "      <td>0.910634</td>\n",
       "    </tr>\n",
       "    <tr>\n",
       "      <th>Altura</th>\n",
       "      <td>0.684495</td>\n",
       "      <td>0.910634</td>\n",
       "      <td>1.000000</td>\n",
       "    </tr>\n",
       "  </tbody>\n",
       "</table>\n",
       "</div>"
      ],
      "text/plain": [
       "          Genero      Peso    Altura\n",
       "Genero  1.000000  0.793309  0.684495\n",
       "Peso    0.793309  1.000000  0.910634\n",
       "Altura  0.684495  0.910634  1.000000"
      ]
     },
     "execution_count": 95,
     "metadata": {},
     "output_type": "execute_result"
    }
   ],
   "source": [
    "df2.corr()"
   ]
  },
  {
   "cell_type": "code",
   "execution_count": 101,
   "metadata": {},
   "outputs": [
    {
     "data": {
      "text/html": [
       "<div>\n",
       "<style scoped>\n",
       "    .dataframe tbody tr th:only-of-type {\n",
       "        vertical-align: middle;\n",
       "    }\n",
       "\n",
       "    .dataframe tbody tr th {\n",
       "        vertical-align: top;\n",
       "    }\n",
       "\n",
       "    .dataframe thead th {\n",
       "        text-align: right;\n",
       "    }\n",
       "</style>\n",
       "<table border=\"1\" class=\"dataframe\">\n",
       "  <thead>\n",
       "    <tr style=\"text-align: right;\">\n",
       "      <th></th>\n",
       "      <th>Genero</th>\n",
       "      <th>Peso</th>\n",
       "      <th>Altura</th>\n",
       "    </tr>\n",
       "  </thead>\n",
       "  <tbody>\n",
       "    <tr>\n",
       "      <th>Genero</th>\n",
       "      <td>1.000000</td>\n",
       "      <td>-0.793309</td>\n",
       "      <td>-0.684495</td>\n",
       "    </tr>\n",
       "    <tr>\n",
       "      <th>Peso</th>\n",
       "      <td>-0.793309</td>\n",
       "      <td>1.000000</td>\n",
       "      <td>0.910634</td>\n",
       "    </tr>\n",
       "    <tr>\n",
       "      <th>Altura</th>\n",
       "      <td>-0.684495</td>\n",
       "      <td>0.910634</td>\n",
       "      <td>1.000000</td>\n",
       "    </tr>\n",
       "  </tbody>\n",
       "</table>\n",
       "</div>"
      ],
      "text/plain": [
       "          Genero      Peso    Altura\n",
       "Genero  1.000000 -0.793309 -0.684495\n",
       "Peso   -0.793309  1.000000  0.910634\n",
       "Altura -0.684495  0.910634  1.000000"
      ]
     },
     "execution_count": 101,
     "metadata": {},
     "output_type": "execute_result"
    }
   ],
   "source": [
    "df3 = df.copy()\n",
    "df3['Genero'] = df['Genero'] == 'Mujer'\n",
    "df3.corr()"
   ]
  },
  {
   "cell_type": "markdown",
   "metadata": {},
   "source": [
    "# En numpy"
   ]
  },
  {
   "cell_type": "code",
   "execution_count": 25,
   "metadata": {},
   "outputs": [
    {
     "data": {
      "text/html": [
       "<div>\n",
       "<style scoped>\n",
       "    .dataframe tbody tr th:only-of-type {\n",
       "        vertical-align: middle;\n",
       "    }\n",
       "\n",
       "    .dataframe tbody tr th {\n",
       "        vertical-align: top;\n",
       "    }\n",
       "\n",
       "    .dataframe thead th {\n",
       "        text-align: right;\n",
       "    }\n",
       "</style>\n",
       "<table border=\"1\" class=\"dataframe\">\n",
       "  <thead>\n",
       "    <tr style=\"text-align: right;\">\n",
       "      <th></th>\n",
       "      <th>Genero</th>\n",
       "      <th>Peso</th>\n",
       "      <th>Altura</th>\n",
       "    </tr>\n",
       "  </thead>\n",
       "  <tbody>\n",
       "    <tr>\n",
       "      <th>0</th>\n",
       "      <td>False</td>\n",
       "      <td>60</td>\n",
       "      <td>160</td>\n",
       "    </tr>\n",
       "    <tr>\n",
       "      <th>1</th>\n",
       "      <td>True</td>\n",
       "      <td>95</td>\n",
       "      <td>180</td>\n",
       "    </tr>\n",
       "    <tr>\n",
       "      <th>2</th>\n",
       "      <td>True</td>\n",
       "      <td>75</td>\n",
       "      <td>170</td>\n",
       "    </tr>\n",
       "    <tr>\n",
       "      <th>3</th>\n",
       "      <td>False</td>\n",
       "      <td>55</td>\n",
       "      <td>160</td>\n",
       "    </tr>\n",
       "    <tr>\n",
       "      <th>4</th>\n",
       "      <td>False</td>\n",
       "      <td>55</td>\n",
       "      <td>150</td>\n",
       "    </tr>\n",
       "    <tr>\n",
       "      <th>...</th>\n",
       "      <td>...</td>\n",
       "      <td>...</td>\n",
       "      <td>...</td>\n",
       "    </tr>\n",
       "    <tr>\n",
       "      <th>7995</th>\n",
       "      <td>False</td>\n",
       "      <td>60</td>\n",
       "      <td>160</td>\n",
       "    </tr>\n",
       "    <tr>\n",
       "      <th>7996</th>\n",
       "      <td>True</td>\n",
       "      <td>85</td>\n",
       "      <td>180</td>\n",
       "    </tr>\n",
       "    <tr>\n",
       "      <th>7997</th>\n",
       "      <td>True</td>\n",
       "      <td>75</td>\n",
       "      <td>170</td>\n",
       "    </tr>\n",
       "    <tr>\n",
       "      <th>7998</th>\n",
       "      <td>False</td>\n",
       "      <td>65</td>\n",
       "      <td>165</td>\n",
       "    </tr>\n",
       "    <tr>\n",
       "      <th>7999</th>\n",
       "      <td>True</td>\n",
       "      <td>80</td>\n",
       "      <td>170</td>\n",
       "    </tr>\n",
       "  </tbody>\n",
       "</table>\n",
       "<p>8000 rows × 3 columns</p>\n",
       "</div>"
      ],
      "text/plain": [
       "      Genero  Peso  Altura\n",
       "0      False    60     160\n",
       "1       True    95     180\n",
       "2       True    75     170\n",
       "3      False    55     160\n",
       "4      False    55     150\n",
       "...      ...   ...     ...\n",
       "7995   False    60     160\n",
       "7996    True    85     180\n",
       "7997    True    75     170\n",
       "7998   False    65     165\n",
       "7999    True    80     170\n",
       "\n",
       "[8000 rows x 3 columns]"
      ]
     },
     "execution_count": 25,
     "metadata": {},
     "output_type": "execute_result"
    }
   ],
   "source": [
    "df2"
   ]
  },
  {
   "cell_type": "code",
   "execution_count": 102,
   "metadata": {},
   "outputs": [
    {
     "data": {
      "text/plain": [
       "array([[False, True, True, ..., True, False, True],\n",
       "       [60, 95, 75, ..., 75, 65, 80],\n",
       "       [160, 180, 170, ..., 170, 165, 170]], dtype=object)"
      ]
     },
     "execution_count": 102,
     "metadata": {},
     "output_type": "execute_result"
    }
   ],
   "source": [
    "df2.values.T"
   ]
  },
  {
   "cell_type": "code",
   "execution_count": 103,
   "metadata": {},
   "outputs": [
    {
     "data": {
      "text/plain": [
       "array([[1.        , 0.7933089 , 0.68449547],\n",
       "       [0.7933089 , 1.        , 0.91063353],\n",
       "       [0.68449547, 0.91063353, 1.        ]])"
      ]
     },
     "execution_count": 103,
     "metadata": {},
     "output_type": "execute_result"
    }
   ],
   "source": [
    "# En numpy\n",
    "np.corrcoef(np.array(df2.values.T, dtype=float))"
   ]
  },
  {
   "cell_type": "code",
   "execution_count": null,
   "metadata": {},
   "outputs": [],
   "source": []
  },
  {
   "cell_type": "code",
   "execution_count": 79,
   "metadata": {},
   "outputs": [],
   "source": [
    "A=2\n",
    "B=1\n",
    "x1 = np.random.normal(0,1,1000)\n",
    "x2 = A*x1+B\n",
    "#x2=x1**2"
   ]
  },
  {
   "cell_type": "code",
   "execution_count": 80,
   "metadata": {},
   "outputs": [
    {
     "name": "stdout",
     "output_type": "stream",
     "text": [
      "1951.8415075779944\n"
     ]
    }
   ],
   "source": [
    "cov = 0\n",
    "i=0\n",
    "for a,b in np.array((x1,x2)).T:\n",
    "    cov = cov + (a-x1.mean())*(b-x2.mean())\n",
    "    i+=1\n",
    "print(cov)"
   ]
  },
  {
   "cell_type": "code",
   "execution_count": 84,
   "metadata": {},
   "outputs": [
    {
     "data": {
      "text/plain": [
       "999.9999999999997"
      ]
     },
     "execution_count": 84,
     "metadata": {},
     "output_type": "execute_result"
    }
   ],
   "source": [
    "coef = cov/(x1.std()*x2.std())\n",
    "coef"
   ]
  },
  {
   "cell_type": "code",
   "execution_count": 74,
   "metadata": {},
   "outputs": [],
   "source": [
    "from matplotlib import pyplot as plt"
   ]
  },
  {
   "cell_type": "code",
   "execution_count": 75,
   "metadata": {},
   "outputs": [
    {
     "data": {
      "text/plain": [
       "<matplotlib.collections.PathCollection at 0x7fcaaa9cc790>"
      ]
     },
     "execution_count": 75,
     "metadata": {},
     "output_type": "execute_result"
    },
    {
     "data": {
      "image/png": "[encoded data removed]",
      "text/plain": [
       "<Figure size 432x288 with 1 Axes>"
      ]
     },
     "metadata": {
      "needs_background": "light"
     },
     "output_type": "display_data"
    }
   ],
   "source": [
    "plt.scatter(x1,x2)"
   ]
  },
  {
   "cell_type": "code",
   "execution_count": 88,
   "metadata": {},
   "outputs": [
    {
     "ename": "ModuleNotFoundError",
     "evalue": "No module named 'spicy'",
     "output_type": "error",
     "traceback": [
      "\u001b[0;31m---------------------------------------------------------------------------\u001b[0m",
      "\u001b[0;31mModuleNotFoundError\u001b[0m                       Traceback (most recent call last)",
      "\u001b[0;32m<ipython-input-88-d6d222e2059f>\u001b[0m in \u001b[0;36m<module>\u001b[0;34m\u001b[0m\n\u001b[0;32m----> 1\u001b[0;31m \u001b[0;32mfrom\u001b[0m \u001b[0mspicy\u001b[0m \u001b[0;32mimport\u001b[0m \u001b[0;34m*\u001b[0m\u001b[0;34m\u001b[0m\u001b[0;34m\u001b[0m\u001b[0m\n\u001b[0m",
      "\u001b[0;31mModuleNotFoundError\u001b[0m: No module named 'spicy'"
     ]
    }
   ],
   "source": [
    "from spicy import * "
   ]
  },
  {
   "cell_type": "code",
   "execution_count": 104,
   "metadata": {},
   "outputs": [
    {
     "data": {
      "text/plain": [
       "array([ 0.65720135, -0.94120831,  1.91071188,  3.4790506 ,  0.645752  ,\n",
       "        0.229005  , -0.47314807,  2.93868034,  2.6825661 ,  0.22378719,\n",
       "        1.5644534 ,  3.12473519,  0.50452335, -0.51027121, -0.82080956,\n",
       "        0.90111423,  0.78783574,  0.98739074, -2.17944526,  1.09594295,\n",
       "        1.02870406,  1.81641583,  3.34681877,  1.17397426,  3.48980261,\n",
       "        2.56751048,  0.23161148,  1.96528305,  0.91546565,  0.47142618,\n",
       "       -2.30364206,  2.32581277, -1.28088258,  1.60481648, -1.59848115,\n",
       "        3.88317631, -2.77293389,  1.36208673,  0.56009555, -1.19611275,\n",
       "       -0.79386857, -0.28556586, -1.86303501, -1.04492137,  1.84149101,\n",
       "       -0.61809497,  3.28595323,  3.17398331,  1.4896249 ,  3.41788029,\n",
       "        3.63093356, -0.06567392, -0.32825306,  0.5621994 ,  2.19873926,\n",
       "        0.7703162 ,  5.62240527, -3.103337  , -0.38681679,  0.23254349,\n",
       "       -0.2248544 ,  0.05492077,  2.12337116,  1.03855215,  2.05805831,\n",
       "        0.90505377,  0.63634128, -0.98182986,  0.20024954,  1.38048561,\n",
       "       -0.31459996, -1.57904264,  1.53008158,  1.93401659, -2.33717879,\n",
       "        3.64786003,  3.38740775, -0.97310603,  3.12504132, -0.26213363,\n",
       "        1.48406786, -0.27287457,  3.40927005,  1.45105565,  0.52666621,\n",
       "        0.5570191 ,  1.79712215,  1.13568985,  3.90413598,  2.66255445,\n",
       "       -2.47859655,  2.04336523,  3.85493294, -1.87366509,  2.76554323,\n",
       "        1.79882823,  2.93326109, -0.40508897,  0.62844727,  2.80372992])"
      ]
     },
     "execution_count": 104,
     "metadata": {},
     "output_type": "execute_result"
    }
   ],
   "source": []
  },
  {
   "cell_type": "code",
   "execution_count": 105,
   "metadata": {},
   "outputs": [
    {
     "ename": "NameError",
     "evalue": "name 'norm' is not defined",
     "output_type": "error",
     "traceback": [
      "\u001b[0;31m---------------------------------------------------------------------------\u001b[0m",
      "\u001b[0;31mNameError\u001b[0m                                 Traceback (most recent call last)",
      "\u001b[0;32m<ipython-input-105-4ca5b1dbe928>\u001b[0m in \u001b[0;36m<module>\u001b[0;34m\u001b[0m\n\u001b[1;32m      1\u001b[0m \u001b[0mrango\u001b[0m \u001b[0;34m=\u001b[0m \u001b[0mnp\u001b[0m\u001b[0;34m.\u001b[0m\u001b[0mrandom\u001b[0m\u001b[0;34m.\u001b[0m\u001b[0mnormal\u001b[0m\u001b[0;34m(\u001b[0m\u001b[0;36m1\u001b[0m\u001b[0;34m,\u001b[0m \u001b[0;36m2\u001b[0m\u001b[0;34m,\u001b[0m \u001b[0;36m100\u001b[0m\u001b[0;34m)\u001b[0m\u001b[0;34m\u001b[0m\u001b[0;34m\u001b[0m\u001b[0m\n\u001b[0;32m----> 2\u001b[0;31m \u001b[0mpdf\u001b[0m \u001b[0;34m=\u001b[0m \u001b[0mnorm\u001b[0m\u001b[0;34m.\u001b[0m\u001b[0mpdf\u001b[0m\u001b[0;34m(\u001b[0m\u001b[0mrango\u001b[0m\u001b[0;34m,\u001b[0m \u001b[0mmedia\u001b[0m\u001b[0;34m,\u001b[0m \u001b[0mstd\u001b[0m\u001b[0;34m)\u001b[0m\u001b[0;34m\u001b[0m\u001b[0;34m\u001b[0m\u001b[0m\n\u001b[0m\u001b[1;32m      3\u001b[0m \u001b[0mplt\u001b[0m\u001b[0;34m.\u001b[0m\u001b[0mplot\u001b[0m\u001b[0;34m(\u001b[0m\u001b[0mrango\u001b[0m\u001b[0;34m,\u001b[0m \u001b[0mpdf\u001b[0m\u001b[0;34m)\u001b[0m\u001b[0;34m\u001b[0m\u001b[0;34m\u001b[0m\u001b[0m\n\u001b[1;32m      4\u001b[0m \u001b[0mplt\u001b[0m\u001b[0;34m.\u001b[0m\u001b[0mshow\u001b[0m\u001b[0;34m(\u001b[0m\u001b[0;34m)\u001b[0m\u001b[0;34m\u001b[0m\u001b[0;34m\u001b[0m\u001b[0m\n",
      "\u001b[0;31mNameError\u001b[0m: name 'norm' is not defined"
     ]
    }
   ],
   "source": []
  },
  {
   "cell_type": "code",
   "execution_count": null,
   "metadata": {},
   "outputs": [],
   "source": []
  }
 ],
 "metadata": {
  "kernelspec": {
   "display_name": "Python 3",
   "language": "python",
   "name": "python3"
  },
  "language_info": {
   "codemirror_mode": {
    "name": "ipython",
    "version": 3
   },
   "file_extension": ".py",
   "mimetype": "text/x-python",
   "name": "python",
   "nbconvert_exporter": "python",
   "pygments_lexer": "ipython3",
   "version": "3.8.3"
  }
 },
 "nbformat": 4,
 "nbformat_minor": 4
}
