{
 "cells": [
  {
   "cell_type": "markdown",
   "metadata": {},
   "source": [
    "## Generador de una VA Bernoulli"
   ]
  },
  {
   "cell_type": "code",
   "execution_count": 1,
   "metadata": {},
   "outputs": [],
   "source": [
    "import numpy as np\n",
    "from matplotlib import pyplot as plt\n",
    "from collections import Counter"
   ]
  },
  {
   "cell_type": "code",
   "execution_count": 22,
   "metadata": {},
   "outputs": [
    {
     "data": {
      "text/plain": [
       "array([1, 1, 0, 1, 0, 1, 0, 0, 1, 1, 0, 1, 0, 1, 1, 0, 1, 1, 1, 1, 0, 0,\n",
       "       1, 1, 1, 1, 1, 1, 1, 0, 1, 0, 1, 1, 1, 1, 1, 0, 1, 0, 0, 1, 1, 1,\n",
       "       1, 1, 1, 1, 1, 0, 1, 0, 0, 1, 1, 0, 1, 0, 0, 0, 1, 1, 0, 1, 0, 0,\n",
       "       1, 1, 1, 1, 1, 1, 0, 1, 0, 1, 1, 0, 1, 1, 1, 1, 0, 0, 1, 0, 0, 1,\n",
       "       1, 1, 0, 1, 0, 1, 1, 0, 0, 0, 1, 1, 0, 1, 1, 1, 1, 1, 1, 1, 0, 1,\n",
       "       1, 1, 1, 1, 1, 0, 1, 1, 1, 0, 1, 1, 0, 1, 0, 0, 1, 1, 1, 0, 1, 0,\n",
       "       0, 1, 1, 1, 0, 1, 0, 1, 0, 1, 1, 1, 1, 1, 1, 0, 1, 1, 1, 1, 1, 1,\n",
       "       1, 1, 1, 1, 1, 1, 1, 1, 1, 1, 1, 1, 1, 1, 0, 1, 0, 0, 1, 1, 0, 1,\n",
       "       1, 1, 1, 1, 1, 1, 1, 1, 1, 1, 1, 1, 1, 1, 0, 1, 0, 1, 1, 0, 1, 1,\n",
       "       1, 1, 0, 1, 0, 0, 1, 1, 0, 1, 1, 0, 1, 1, 1, 0, 1, 1, 1, 1, 1, 1,\n",
       "       0, 0, 1, 0, 0, 0, 1, 0, 0, 1, 1, 1, 1, 0, 1, 1, 0, 1, 1, 1, 0, 1,\n",
       "       1, 1, 1, 0, 1, 1, 1, 1, 1, 1, 1, 1, 0, 1, 1, 0, 1, 1, 1, 1, 0, 1,\n",
       "       1, 1, 1, 0, 1, 1, 1, 1, 1, 1, 0, 1, 1, 1, 0, 1, 1, 1, 1, 1, 0, 1,\n",
       "       0, 0, 1, 1, 1, 1, 1, 1, 1, 0, 1, 1, 0, 1, 1, 1, 1, 1, 1, 1, 1, 0,\n",
       "       1, 1, 1, 1, 1, 1, 1, 1, 1, 0, 1, 1, 1, 0, 0, 1, 1, 0, 0, 0, 1, 1,\n",
       "       1, 1, 1, 0, 1, 1, 1, 0, 1, 1, 1, 0, 0, 1, 0, 1, 1, 1, 0, 1, 1, 0,\n",
       "       1, 1, 1, 0, 0, 1, 1, 0, 1, 0, 1, 0, 1, 0, 1, 1, 0, 1, 0, 1, 1, 1,\n",
       "       1, 1, 0, 1, 1, 1, 1, 1, 1, 0, 1, 1, 1, 1, 1, 1, 0, 1, 1, 0, 1, 1,\n",
       "       1, 1, 1, 0, 0, 1, 1, 1, 1, 0, 1, 1, 0, 0, 1, 0, 1, 1, 1, 1, 0, 0,\n",
       "       0, 0, 1, 1, 1, 0, 1, 0, 1, 1, 0, 1, 0, 1, 1, 1, 1, 1, 0, 0, 1, 0,\n",
       "       1, 1, 1, 1, 0, 1, 1, 1, 1, 1, 1, 0, 1, 1, 1, 1, 1, 1, 1, 0, 1, 0,\n",
       "       0, 1, 1, 1, 1, 1, 1, 1, 1, 1, 0, 1, 1, 1, 1, 0, 1, 1, 1, 1, 1, 1,\n",
       "       1, 1, 0, 1, 1, 0, 0, 1, 0, 0, 0, 1, 1, 1, 1, 1])"
      ]
     },
     "execution_count": 22,
     "metadata": {},
     "output_type": "execute_result"
    }
   ],
   "source": [
    "p_1 = 0.7\n",
    "va_bernulli = np.random.choice([0,1], 500, p=[1-p_1, p_1])\n",
    "va_bernulli"
   ]
  },
  {
   "cell_type": "code",
   "execution_count": 3,
   "metadata": {},
   "outputs": [
    {
     "data": {
      "text/plain": [
       "0.6189955935892814"
      ]
     },
     "execution_count": 3,
     "metadata": {},
     "output_type": "execute_result"
    }
   ],
   "source": [
    "0.9*np.log2(1/0.9) + 0.05*np.log2(1/0.05) + 2*0.025 * np.log2(1/0.025)"
   ]
  },
  {
   "cell_type": "code",
   "execution_count": 23,
   "metadata": {},
   "outputs": [
    {
     "data": {
      "text/plain": [
       "0.718"
      ]
     },
     "execution_count": 23,
     "metadata": {},
     "output_type": "execute_result"
    }
   ],
   "source": [
    "media = va_bernulli.mean()\n",
    "media"
   ]
  },
  {
   "cell_type": "code",
   "execution_count": 24,
   "metadata": {},
   "outputs": [
    {
     "data": {
      "text/plain": [
       "0.20247600000000002"
      ]
     },
     "execution_count": 24,
     "metadata": {},
     "output_type": "execute_result"
    }
   ],
   "source": [
    "varianza = va_bernulli.var()\n",
    "varianza"
   ]
  },
  {
   "cell_type": "code",
   "execution_count": 25,
   "metadata": {},
   "outputs": [
    {
     "data": {
      "text/plain": [
       "0.4499733325431631"
      ]
     },
     "execution_count": 25,
     "metadata": {},
     "output_type": "execute_result"
    }
   ],
   "source": [
    "desvio_estandar = (varianza)**(1/2)\n",
    "desvio_estandar"
   ]
  },
  {
   "cell_type": "code",
   "execution_count": 29,
   "metadata": {},
   "outputs": [
    {
     "data": {
      "text/plain": [
       "0.8812908992306927"
      ]
     },
     "execution_count": 29,
     "metadata": {},
     "output_type": "execute_result"
    }
   ],
   "source": [
    "entropia = (-p_1*np.log(p_1) - (1-p_1)*np.log(1-p_1))/np.log(2)\n",
    "entropia"
   ]
  },
  {
   "cell_type": "markdown",
   "metadata": {},
   "source": [
    "# Modelo generador de una V.A Uniforme"
   ]
  },
  {
   "cell_type": "code",
   "execution_count": 48,
   "metadata": {},
   "outputs": [
    {
     "data": {
      "text/plain": [
       "array([5, 1, 5, 2, 5, 1, 4, 4, 3, 6, 4, 1, 1, 5, 6, 4, 5, 3, 3, 5, 4, 5,\n",
       "       3, 6, 2, 3, 6, 6, 3, 5, 6, 2, 3, 3, 2, 4, 1, 2, 3, 4, 2, 4, 2, 6,\n",
       "       2, 4, 1, 2, 2, 3, 6, 4, 6, 3, 3, 2, 2, 6, 2, 3, 5, 3, 1, 5, 4, 3,\n",
       "       1, 4, 5, 1, 2, 4, 1, 5, 2, 4, 6, 6, 3, 3, 1, 4, 4, 3, 6, 6, 6, 1,\n",
       "       5, 1, 2, 5, 2, 6, 2, 3, 6, 4, 4, 5, 4, 2, 3, 1, 5, 6, 6, 1, 6, 6,\n",
       "       5, 6, 1, 2, 1, 5, 3, 5, 2, 5, 2, 2, 2, 5, 3, 6, 6, 3, 6, 3, 3, 4,\n",
       "       3, 6, 1, 2, 1, 6, 3, 5, 2, 3, 1, 6, 1, 4, 5, 2, 5, 2, 2, 1, 2, 4,\n",
       "       4, 1, 4, 6, 5, 2, 4, 6, 5, 3, 5, 6, 3, 2, 6, 6, 2, 4, 1, 3, 1, 1,\n",
       "       4, 1, 2, 4, 2, 3, 1, 6, 4, 5, 6, 5, 3, 3, 1, 5, 4, 1, 5, 1, 6, 1,\n",
       "       4, 5, 1, 1, 6, 2, 5, 5, 3, 4, 6, 6, 6, 3, 2, 2, 6, 3, 3, 3, 2, 6,\n",
       "       6, 3, 4, 2, 4, 1, 3, 3, 4, 4, 3, 4, 2, 5, 4, 5, 2, 5, 4, 4, 2, 1,\n",
       "       6, 4, 1, 3, 3, 3, 3, 1, 2, 6, 6, 5, 2, 6, 1, 6, 4, 3, 1, 3, 4, 6,\n",
       "       3, 5, 4, 1, 3, 5, 4, 2, 1, 4, 3, 3, 2, 4, 2, 2, 5, 4, 4, 1, 2, 4,\n",
       "       3, 3, 5, 4, 5, 1, 1, 1, 2, 2, 6, 6, 2, 6, 2, 5, 6, 2, 2, 5, 3, 5,\n",
       "       5, 6, 5, 1, 6, 3, 6, 2, 4, 4, 2, 1, 1, 5, 3, 3, 1, 6, 4, 1, 1, 3,\n",
       "       1, 3, 3, 1, 5, 2, 6, 1, 6, 5, 3, 3, 6, 6, 6, 2, 6, 1, 2, 2, 6, 4,\n",
       "       4, 4, 1, 5, 3, 6, 1, 4, 3, 5, 4, 5, 5, 2, 3, 6, 6, 2, 2, 4, 4, 3,\n",
       "       4, 2, 3, 5, 6, 1, 5, 6, 6, 2, 4, 3, 4, 4, 6, 2, 1, 2, 3, 3, 5, 3,\n",
       "       1, 1, 3, 6, 1, 6, 1, 1, 1, 6, 2, 2, 4, 2, 5, 1, 5, 5, 2, 5, 6, 1,\n",
       "       1, 2, 3, 4, 2, 3, 1, 5, 5, 6, 2, 3, 3, 4, 4, 2, 2, 6, 1, 1, 6, 5,\n",
       "       2, 6, 3, 5, 4, 4, 5, 4, 4, 3, 3, 2, 5, 1, 6, 2, 1, 2, 5, 5, 5, 5,\n",
       "       3, 2, 2, 3, 4, 3, 6, 6, 6, 4, 5, 5, 6, 1, 2, 5, 3, 1, 2, 3, 1, 5,\n",
       "       6, 3, 3, 3, 1, 2, 3, 1, 4, 5, 5, 4, 4, 5, 6, 2, 3, 2, 3, 5, 2, 2,\n",
       "       6, 3, 2, 1, 6, 3, 6, 5, 5, 4, 5, 2, 1, 1, 6, 5, 3, 5, 1, 1, 5, 3,\n",
       "       2, 4, 5, 3, 1, 6, 5, 3, 3, 6, 4, 4, 2, 3, 1, 6, 4, 6, 4, 4, 5, 2,\n",
       "       3, 2, 2, 4, 1, 5, 6, 4, 6, 1, 2, 2, 5, 3, 4, 6, 3, 1, 5, 3, 5, 6,\n",
       "       5, 5, 3, 4, 3, 2, 3, 2, 4, 6, 3, 3, 2, 4, 6, 2, 6, 2, 2, 4, 2, 3,\n",
       "       5, 5, 4, 2, 5, 5, 1, 2, 6, 5, 1, 5, 2, 2, 6, 3, 3, 5, 1, 1, 4, 6,\n",
       "       2, 5, 2, 1, 5, 4, 1, 5, 4, 3, 1, 6, 3, 1, 6, 6, 5, 4, 6, 1, 4, 3,\n",
       "       5, 5, 1, 4, 2, 5, 2, 4, 6, 5, 1, 4, 5, 3, 6, 3, 1, 1, 4, 1, 3, 3,\n",
       "       4, 3, 5, 5, 1, 4, 1, 1, 5, 6, 1, 3, 4, 4, 4, 5, 3, 2, 2, 5, 4, 1,\n",
       "       1, 4, 6, 4, 3, 5, 1, 2, 5, 6, 6, 6, 4, 3, 2, 3, 2, 5, 3, 4, 6, 2,\n",
       "       5, 5, 3, 3, 3, 5, 2, 5, 4, 1, 1, 5, 6, 6, 3, 4, 2, 3, 6, 1, 1, 4,\n",
       "       5, 4, 3, 3, 3, 1, 1, 2, 2, 3, 1, 1, 4, 5, 4, 1, 2, 3, 4, 6, 1, 4,\n",
       "       3, 3, 2, 4, 4, 3, 1, 4, 2, 3, 6, 1, 1, 2, 5, 5, 5, 2, 2, 6, 4, 5,\n",
       "       3, 1, 4, 5, 4, 6, 4, 3, 1, 1, 2, 4, 2, 5, 4, 3, 3, 6, 5, 1, 6, 3,\n",
       "       6, 3, 2, 2, 5, 1, 5, 5, 5, 4, 5, 3, 3, 6, 4, 2, 2, 6, 1, 1, 1, 3,\n",
       "       2, 5, 6, 6, 6, 4, 1, 3, 1, 6, 6, 6, 1, 6, 2, 3, 5, 5, 2, 2, 4, 4,\n",
       "       4, 4, 3, 3, 1, 3, 3, 2, 2, 4, 3, 4, 1, 6, 6, 5, 4, 2, 2, 5, 3, 3,\n",
       "       3, 3, 5, 2, 6, 5, 3, 1, 1, 2, 3, 6, 5, 2, 6, 5, 4, 4, 1, 1, 6, 4,\n",
       "       6, 1, 1, 4, 1, 4, 1, 1, 4, 6, 3, 5, 4, 6, 4, 1, 5, 3, 6, 5, 5, 6,\n",
       "       2, 5, 1, 3, 1, 2, 5, 4, 3, 2, 6, 5, 4, 5, 6, 6, 5, 1, 2, 5, 3, 4,\n",
       "       5, 6, 6, 1, 5, 2, 5, 3, 6, 6, 1, 5, 1, 5, 3, 5, 4, 4, 4, 4, 2, 5,\n",
       "       6, 5, 5, 3, 2, 2, 3, 6, 5, 2, 6, 5, 4, 6, 2, 2, 6, 1, 2, 6, 2, 2,\n",
       "       2, 4, 6, 3, 5, 4, 1, 5, 5, 6, 2, 6, 6, 3, 6, 5, 2, 4, 6, 2, 1, 2,\n",
       "       6, 6, 5, 2, 5, 5, 6, 5, 2, 6])"
      ]
     },
     "execution_count": 48,
     "metadata": {},
     "output_type": "execute_result"
    }
   ],
   "source": [
    "np.random.randint(1,7, 1000)"
   ]
  },
  {
   "cell_type": "markdown",
   "metadata": {},
   "source": [
    "# Modelo generador de una V.A Categórica"
   ]
  },
  {
   "cell_type": "code",
   "execution_count": 47,
   "metadata": {},
   "outputs": [
    {
     "data": {
      "image/png": "[encoded data removed]",
      "text/plain": [
       "<Figure size 432x288 with 1 Axes>"
      ]
     },
     "metadata": {
      "needs_background": "light"
     },
     "output_type": "display_data"
    }
   ],
   "source": [
    "X = {1: 0.25, 2: 0.25, 3: 0.25, 4:0.25}\n",
    "observaciones = np.random.choice(list(X.keys()), size = 1000, p = list(X.values()))\n",
    "Counter(observaciones)\n",
    "hist = plt.hist(observaciones, bins=4, range=[1,5], width=0.9, density=True) # normed='density')"
   ]
  },
  {
   "cell_type": "code",
   "execution_count": 3,
   "metadata": {},
   "outputs": [],
   "source": [
    "import numpy as np\n",
    "a = np.random.choice([0,1], 500, p=[0.3, 0.7])"
   ]
  },
  {
   "cell_type": "code",
   "execution_count": 4,
   "metadata": {},
   "outputs": [
    {
     "data": {
      "text/plain": [
       "0.71"
      ]
     },
     "execution_count": 4,
     "metadata": {},
     "output_type": "execute_result"
    }
   ],
   "source": [
    "a.mean()"
   ]
  },
  {
   "cell_type": "code",
   "execution_count": null,
   "metadata": {},
   "outputs": [],
   "source": []
  }
 ],
 "metadata": {
  "kernelspec": {
   "display_name": "Python 3",
   "language": "python",
   "name": "python3"
  },
  "language_info": {
   "codemirror_mode": {
    "name": "ipython",
    "version": 3
   },
   "file_extension": ".py",
   "mimetype": "text/x-python",
   "name": "python",
   "nbconvert_exporter": "python",
   "pygments_lexer": "ipython3",
   "version": "3.8.3"
  }
 },
 "nbformat": 4,
 "nbformat_minor": 4
}
